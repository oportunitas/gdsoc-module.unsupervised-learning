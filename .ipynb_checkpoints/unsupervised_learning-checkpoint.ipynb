{
 "cells": [
  {
   "cell_type": "code",
   "execution_count": 2,
   "id": "821faf40",
   "metadata": {},
   "outputs": [
    {
     "data": {
      "text/html": [
       "\n",
       "<style>\n",
       "    * {\n",
       "        #color: red;\n",
       "        #font-family: ‘Cascadia Code PL’;#,‘Courier New’, Courier, monospace; \n",
       "        font-family: ‘JetBrainsMono Nerd Font Regular‘, ‘Courier New’, Courier, monospace; \n",
       "        font-size: 13px !important;\n",
       "        line-height: 1.1 !important;\n",
       "    }\n",
       "    .output-plaintext, .output-stream, .output {\n",
       "        font-family: ‘JetBrainsMono Nerd Font Regular‘, ‘Courier New’, Courier, monospace; # Any monospaced font should work\n",
       "        line-height: 1.3 !important;\n",
       "        font-size: 13px !important;\n",
       "    }\n",
       "</style>\n"
      ],
      "text/plain": [
       "<IPython.core.display.HTML object>"
      ]
     },
     "execution_count": 2,
     "metadata": {},
     "output_type": "execute_result"
    }
   ],
   "source": [
    "from IPython.core.display import HTML\n",
    "HTML(r\"\"\"\n",
    "<style>\n",
    "    * {\n",
    "        #color: red;\n",
    "        #font-family: ‘Cascadia Code PL’;#,‘Courier New’, Courier, monospace; \n",
    "        font-family: ‘JetBrainsMono Nerd Font Regular‘, ‘Courier New’, Courier, monospace; \n",
    "        font-size: 13px !important;\n",
    "        line-height: 1.1 !important;\n",
    "    }\n",
    "    .output-plaintext, .output-stream, .output {\n",
    "        font-family: ‘JetBrainsMono Nerd Font Regular‘, ‘Courier New’, Courier, monospace; # Any monospaced font should work\n",
    "        line-height: 1.3 !important;\n",
    "        font-size: 13px !important;\n",
    "    }\n",
    "</style>\n",
    "\"\"\")"
   ]
  },
  {
   "cell_type": "markdown",
   "id": "c30eecf9",
   "metadata": {},
   "source": [
    "# 🌌 Unsupervised Learning\n",
    "_“Where there is pattern, there is meaning.”_\n",
    "\n",
    "**Unsupervised Learning** adalah metode pembelajaran mesin dimana sebuah model dilatih untuk menemukan **pola-pola** tertentu dari sebuah dataset tanpa adanya label.\n",
    "\n",
    "Unsupervised Learning biasanya disebut juga dengan istilah **Clustering**, karena biasanya tujuan dari model yang dilatih menggunakan unsupervised learning adalah untuk membagi dataset menjadi beberapa kluster."
   ]
  }
 ],
 "metadata": {
  "kernelspec": {
   "display_name": "Python 3 (ipykernel)",
   "language": "python",
   "name": "python3"
  },
  "language_info": {
   "codemirror_mode": {
    "name": "ipython",
    "version": 3
   },
   "file_extension": ".py",
   "mimetype": "text/x-python",
   "name": "python",
   "nbconvert_exporter": "python",
   "pygments_lexer": "ipython3",
   "version": "3.11.12"
  }
 },
 "nbformat": 4,
 "nbformat_minor": 5
}
